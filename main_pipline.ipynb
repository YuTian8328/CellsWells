{
 "cells": [
  {
   "cell_type": "code",
   "execution_count": 1,
   "id": "02295541",
   "metadata": {
    "scrolled": true
   },
   "outputs": [
    {
     "name": "stdout",
     "output_type": "stream",
     "text": [
      "/Users/tiany4/Documents/CellsWells\r\n"
     ]
    }
   ],
   "source": [
    "!pwd ## checkout if we are working under the correct directory"
   ]
  },
  {
   "cell_type": "code",
   "execution_count": 2,
   "id": "b17d37ac",
   "metadata": {
    "scrolled": true
   },
   "outputs": [],
   "source": [
    "import networkx as nx\n",
    "from pathlib import Path\n",
    "from build_graph import build_graph_from_raw\n",
    "from data import GNNDataset,nx_to_tg_graph,process_feature,GNNgraphSampler\n",
    "from models import GNN_pred"
   ]
  },
  {
   "cell_type": "markdown",
   "id": "63717f51",
   "metadata": {},
   "source": [
    "## Generate nx Graphs from raw data"
   ]
  },
  {
   "cell_type": "code",
   "execution_count": 3,
   "id": "34fb9af9",
   "metadata": {},
   "outputs": [],
   "source": [
    "# directory names\n",
    "raw_dir = \"data/Features_DSRT_small_regions\"\n",
    "graph_dir = \"data/graphs_from_wells\""
   ]
  },
  {
   "cell_type": "code",
   "execution_count": 4,
   "id": "6ba23f30",
   "metadata": {},
   "outputs": [],
   "source": [
    "import os\n",
    "from pathlib import Path\n",
    "from build_graph import build_graph_from_raw  # the module to create a networkx graph\n",
    "import networkx as nx"
   ]
  },
  {
   "cell_type": "code",
   "execution_count": 5,
   "id": "eb16e247",
   "metadata": {},
   "outputs": [],
   "source": [
    "# generate nx graphs from raw data\n",
    "if not os.path.exists(graph_dir): \n",
    "    os.mkdir(graph_dir)\n",
    "    for file_name in os.listdir(raw_dir):\n",
    "        file_path = Path(raw_dir, file_name)\n",
    "        G = build_graph_from_raw(file_path,max_dist=70) # nodes with distance less than max_dist is considered as connected\n",
    "        nx.write_gpickle(G, os.path.join(graph_dir, \"%s.gpkl\" % file_name[:-4]))"
   ]
  },
  {
   "cell_type": "code",
   "execution_count": 6,
   "id": "1f9854b2",
   "metadata": {},
   "outputs": [
    {
     "name": "stdout",
     "output_type": "stream",
     "text": [
      "p1_wL17_t1_m1_c0_z0_l1_o0.gpkl\n",
      "p1_wE16_t1_m1_c0_z0_l1_o0.gpkl\n",
      "p1_wM11_t1_m1_c0_z0_l1_o0.gpkl\n"
     ]
    }
   ],
   "source": [
    "# check out file names\n",
    "for file in os.listdir(graph_dir)[0:3]:\n",
    "    print(file)\n",
    "    file_path = Path(graph_dir, file)\n",
    "    G = nx.read_gpickle(file_path)"
   ]
  },
  {
   "cell_type": "code",
   "execution_count": 7,
   "id": "0dc2c992",
   "metadata": {},
   "outputs": [
    {
     "data": {
      "text/plain": [
       "{'coord': array([7.97402832e+03, 9.53681543e+03, 8.89972878e+00]),\n",
       " 'marker': array([108.79403687, 111.72982025, 650.32147217, 112.39523315,\n",
       "        110.50389099]),\n",
       " 'size': array([76034.        , 27187.88671875])}"
      ]
     },
     "execution_count": 7,
     "metadata": {},
     "output_type": "execute_result"
    }
   ],
   "source": [
    "# checkout node features. NOTE: to add more features, please modify the build_graph.py module. \n",
    "G.nodes()[0]"
   ]
  },
  {
   "cell_type": "code",
   "execution_count": 8,
   "id": "9d20ae82",
   "metadata": {},
   "outputs": [
    {
     "data": {
      "text/plain": [
       "EdgeView([(1, 2), (2, 3), (4, 5), (10, 11), (10, 16), (11, 16), (19, 21), (20, 23), (23, 24)])"
      ]
     },
     "execution_count": 8,
     "metadata": {},
     "output_type": "execute_result"
    }
   ],
   "source": [
    "G.edges()"
   ]
  },
  {
   "cell_type": "code",
   "execution_count": 9,
   "id": "d941668f",
   "metadata": {},
   "outputs": [
    {
     "data": {
      "text/plain": [
       "{'distance': 53.68262727742516, 'edge_type': 1}"
      ]
     },
     "execution_count": 9,
     "metadata": {},
     "output_type": "execute_result"
    }
   ],
   "source": [
    "# checkout edge features: node pair distance and encoded edge_type, 1 means far, 0 means close \n",
    "# for details, please checkout build_graph.py\n",
    "G.edges()[(1,2)]"
   ]
  },
  {
   "cell_type": "code",
   "execution_count": 10,
   "id": "34cec77d",
   "metadata": {},
   "outputs": [],
   "source": [
    "node_features=[\"size\", \"marker\", \"coord\"],\n",
    "edge_features=[\"edge_type\", \"distance\"],"
   ]
  },
  {
   "cell_type": "code",
   "execution_count": 11,
   "id": "6e7bba09",
   "metadata": {},
   "outputs": [
    {
     "data": {
      "text/plain": [
       "EdgeView([(1, 2), (2, 3), (4, 5), (10, 11), (10, 16), (11, 16), (19, 21), (20, 23), (23, 24)])"
      ]
     },
     "execution_count": 11,
     "metadata": {},
     "output_type": "execute_result"
    }
   ],
   "source": [
    "G.edges"
   ]
  },
  {
   "cell_type": "markdown",
   "id": "afa33633",
   "metadata": {},
   "source": [
    "## Generate tensor graphs from nx graphs"
   ]
  },
  {
   "cell_type": "code",
   "execution_count": 12,
   "id": "194dc476",
   "metadata": {},
   "outputs": [],
   "source": [
    "# from data import GNNDataset,nx_to_tg_graph,process_feature,GNNgraphSampler\n",
    "from data import nx_to_tg_graph,GNNDataset,GNNgraphSampler\n",
    "import torch"
   ]
  },
  {
   "cell_type": "code",
   "execution_count": 13,
   "id": "3fc24926",
   "metadata": {},
   "outputs": [],
   "source": [
    "tensor_dir = 'data/tensor_graphs'"
   ]
  },
  {
   "cell_type": "code",
   "execution_count": 14,
   "id": "e5b81d00",
   "metadata": {},
   "outputs": [],
   "source": [
    "# generate nx graphs from raw data\n",
    "if not os.path.exists(tensor_dir): \n",
    "    os.mkdir(tensor_dir)\n",
    "    for file in os.listdir(graph_dir):\n",
    "        graph_path = os.path.join(graph_dir, file)\n",
    "        G = nx.read_gpickle(graph_path)\n",
    "        data = nx_to_tg_graph(G)\n",
    "        torch.save(data, os.path.join(tensor_dir,'%s.gpt' % file[:-5]))\n"
   ]
  },
  {
   "cell_type": "code",
   "execution_count": 15,
   "id": "9cfdefea",
   "metadata": {},
   "outputs": [
    {
     "name": "stdout",
     "output_type": "stream",
     "text": [
      "p1_wD13_t1_m1_c0_z0_l1_o0.gpt\n",
      "p1_wA12_t1_m1_c0_z0_l1_o0.gpt\n",
      "p1_wM2_t1_m1_c0_z0_l1_o0.gpt\n"
     ]
    }
   ],
   "source": [
    "# check out file names\n",
    "for file in os.listdir(tensor_dir)[0:3]:\n",
    "    print(file)\n",
    "    file_path = Path(tensor_dir, file)\n",
    "    data = torch.load(file_path)"
   ]
  },
  {
   "cell_type": "code",
   "execution_count": 16,
   "id": "3043d8ed",
   "metadata": {},
   "outputs": [
    {
     "data": {
      "text/plain": [
       "['y', 'num_nodes', 'edge_attr', 'edge_index', 'x']"
      ]
     },
     "execution_count": 16,
     "metadata": {},
     "output_type": "execute_result"
    }
   ],
   "source": [
    "# checkout tensor data which is standard input for GNN  ( x contains node features, y contains nodel label).\n",
    "# for details/modification, please checkout the data.py module.\n",
    "data.keys"
   ]
  },
  {
   "cell_type": "markdown",
   "id": "a480d00d",
   "metadata": {},
   "source": [
    "## Customized standard torch.geometric dataset and dataloader"
   ]
  },
  {
   "cell_type": "code",
   "execution_count": 17,
   "id": "318651a6",
   "metadata": {},
   "outputs": [],
   "source": [
    "from data import GNNDataset,GNNgraphSampler\n",
    "from utils import CHANNEL_MARKERS"
   ]
  },
  {
   "cell_type": "code",
   "execution_count": 18,
   "id": "8b752a09",
   "metadata": {},
   "outputs": [],
   "source": [
    "from utils import CHANNEL_MARKERS\n",
    "dataset = GNNDataset(root=\"data\",  \n",
    "                     node_features=[ 'size','marker', 'coord'],\n",
    "                     edge_features=['edge_type', 'distance'],\n",
    "                     channel_markers=CHANNEL_MARKERS)"
   ]
  },
  {
   "cell_type": "code",
   "execution_count": 19,
   "id": "9ef4a65d",
   "metadata": {},
   "outputs": [
    {
     "data": {
      "text/plain": [
       "['CELL INTENSITY-MEAN Alexa 488',\n",
       " 'CELL INTENSITY-MEAN Alexa 647',\n",
       " 'CELL INTENSITY-MEAN Brightfield',\n",
       " 'CELL INTENSITY-MEAN Cy3',\n",
       " 'CELL INTENSITY-MEAN Hoechst 33342']"
      ]
     },
     "execution_count": 19,
     "metadata": {},
     "output_type": "execute_result"
    }
   ],
   "source": [
    "dataset.channel_markers  ## channels used for demo"
   ]
  },
  {
   "cell_type": "code",
   "execution_count": 20,
   "id": "4d429712",
   "metadata": {},
   "outputs": [
    {
     "data": {
      "text/plain": [
       "['area',\n",
       " 'volume',\n",
       " 'marker-CELL INTENSITY-MEAN Alexa 488',\n",
       " 'marker-CELL INTENSITY-MEAN Alexa 647',\n",
       " 'marker-CELL INTENSITY-MEAN Brightfield',\n",
       " 'marker-CELL INTENSITY-MEAN Cy3',\n",
       " 'marker-CELL INTENSITY-MEAN Hoechst 33342',\n",
       " 'coord-x',\n",
       " 'coord-y',\n",
       " 'coord-z']"
      ]
     },
     "execution_count": 20,
     "metadata": {},
     "output_type": "execute_result"
    }
   ],
   "source": [
    "dataset.node_feature_names "
   ]
  },
  {
   "cell_type": "code",
   "execution_count": 21,
   "id": "fba279e1",
   "metadata": {},
   "outputs": [
    {
     "data": {
      "text/plain": [
       "['edge_type', 'distance']"
      ]
     },
     "execution_count": 21,
     "metadata": {},
     "output_type": "execute_result"
    }
   ],
   "source": [
    "dataset.edge_feature_names"
   ]
  },
  {
   "cell_type": "code",
   "execution_count": 22,
   "id": "9079b054",
   "metadata": {},
   "outputs": [
    {
     "name": "stdout",
     "output_type": "stream",
     "text": [
      "Initiate data loader, subgraph source: None\n"
     ]
    }
   ],
   "source": [
    "# customized dataloader\n",
    "data_iter = GNNgraphSampler(dataset, \n",
    "                                 selected_inds=None,\n",
    "                                     batch_size=1,\n",
    "                                     num_graphs_per_segment=10,\n",
    "                                     steps_per_segment=1000)\n",
    "\n",
    "batch = next(data_iter)"
   ]
  },
  {
   "attachments": {},
   "cell_type": "markdown",
   "id": "b59c2aae",
   "metadata": {},
   "source": [
    "**Check out a single batch, for the time being:**\n",
    "\n",
    "batch.x contains node features: 'area',\n",
    " 'volume',\n",
    " 'marker-CELL INTENSITY-MEAN Alexa 488',\n",
    " 'marker-CELL INTENSITY-MEAN Alexa 647',\n",
    " 'marker-CELL INTENSITY-MEAN Brightfield',\n",
    " 'marker-CELL INTENSITY-MEAN Cy3',\n",
    " 'marker-CELL INTENSITY-MEAN Hoechst 33342',\n",
    " 'coord-x',\n",
    " 'coord-y',\n",
    " 'coord-z'.\n",
    "\n",
    " batch.edge_attr contains edge features: 'edge type', 'distance' \n",
    "\n",
    "\n",
    "batch.y contains nodel labels: 'marker-CELL INTENSITY-MEAN Alexa 488',\n",
    " 'marker-CELL INTENSITY-MEAN Alexa 647',\n",
    " 'marker-CELL INTENSITY-MEAN Brightfield',\n",
    " 'marker-CELL INTENSITY-MEAN Cy3',\n",
    " 'marker-CELL INTENSITY-MEAN Hoechst 33342'.\n",
    "\n",
    "\n",
    "for details/modification, please checkout/edit the data.py module."
   ]
  },
  {
   "cell_type": "code",
   "execution_count": 23,
   "id": "fdb67b6e",
   "metadata": {},
   "outputs": [
    {
     "data": {
      "text/plain": [
       "['y', 'num_nodes', 'batch', 'edge_attr', 'edge_index', 'ptr', 'x']"
      ]
     },
     "execution_count": 23,
     "metadata": {},
     "output_type": "execute_result"
    }
   ],
   "source": [
    "batch.keys"
   ]
  },
  {
   "cell_type": "markdown",
   "id": "0604d309",
   "metadata": {},
   "source": [
    "## Demo a GNN model training\n",
    "\n",
    "Train a GNN model to do channel marker prediction. The main objective is to obtain node embeddings."
   ]
  },
  {
   "cell_type": "code",
   "execution_count": 24,
   "id": "0c030c9b",
   "metadata": {},
   "outputs": [],
   "source": [
    "from models import GNN_pred   ## The module where models are defined"
   ]
  },
  {
   "cell_type": "code",
   "execution_count": 25,
   "id": "84dd9001",
   "metadata": {},
   "outputs": [],
   "source": [
    " model_kwargs = {\n",
    "        'num_layer': 3, \n",
    "        'num_node_type': None,\n",
    "        'num_feat': dataset[0].x.shape[1],\n",
    "        'emb_dim': 512, \n",
    "        'num_node_tasks': 5,\n",
    "        'num_graph_tasks': 0, \n",
    "        'node_embedding_output': 'last', \n",
    "        'drop_ratio': 0.25, \n",
    "        'graph_pooling': \"max\", \n",
    "        'gnn_type': \"gin\",\n",
    "    }"
   ]
  },
  {
   "cell_type": "code",
   "execution_count": 26,
   "id": "094d2617",
   "metadata": {},
   "outputs": [],
   "source": [
    "model = GNN_pred(**model_kwargs)"
   ]
  },
  {
   "cell_type": "code",
   "execution_count": 27,
   "id": "a68bf551",
   "metadata": {},
   "outputs": [
    {
     "data": {
      "text/plain": [
       "GNN_pred(\n",
       "  (gnn): GNN(\n",
       "    (feat_embedding): Linear(in_features=10, out_features=512, bias=True)\n",
       "    (gnns): ModuleList(\n",
       "      (0): GINConv()\n",
       "      (1): GINConv()\n",
       "      (2): GINConv()\n",
       "    )\n",
       "    (batch_norms): ModuleList(\n",
       "      (0): BatchNorm1d(512, eps=1e-05, momentum=0.1, affine=True, track_running_stats=True)\n",
       "      (1): BatchNorm1d(512, eps=1e-05, momentum=0.1, affine=True, track_running_stats=True)\n",
       "      (2): BatchNorm1d(512, eps=1e-05, momentum=0.1, affine=True, track_running_stats=True)\n",
       "    )\n",
       "  )\n",
       "  (node_pred_module): Sequential(\n",
       "    (0): Linear(in_features=512, out_features=512, bias=True)\n",
       "    (1): LeakyReLU(negative_slope=0.01)\n",
       "    (2): Linear(in_features=512, out_features=512, bias=True)\n",
       "    (3): LeakyReLU(negative_slope=0.01)\n",
       "    (4): Linear(in_features=512, out_features=5, bias=True)\n",
       "  )\n",
       ")"
      ]
     },
     "execution_count": 27,
     "metadata": {},
     "output_type": "execute_result"
    }
   ],
   "source": [
    "# checkout model structure: linear embedding layer -> 3 GINConv layers \n",
    "#                         -> batch norm layers -> MLP head(for channel markers prediction) \n",
    "\n",
    "# Note: linear embedding layer combines node embeddings and edge embeddings, i.e. both node features and edge features will be used as input to the model. for details/modifications, please checkout models.py module.\n",
    "# \n",
    "model "
   ]
  },
  {
   "cell_type": "code",
   "execution_count": 28,
   "id": "de1c482f",
   "metadata": {},
   "outputs": [],
   "source": [
    "import torch.nn as nn\n",
    "node_task_criterion = nn.MSELoss() ## using MSE as loss"
   ]
  },
  {
   "cell_type": "code",
   "execution_count": 29,
   "id": "07aca058",
   "metadata": {},
   "outputs": [],
   "source": [
    "device ='cpu'\n",
    "# training\n",
    "num_iterations = 300\n",
    "optimizer = torch.optim.Adam(model.parameters()) \n",
    "losses = []\n",
    "for i_iter in range(int(num_iterations)):\n",
    "    batch = next(data_iter)\n",
    "    batch = batch.to(device)\n",
    "    batch_pred = model(batch)[0] \n",
    "    batch_y = batch.y.float() \n",
    "    loss = node_task_criterion(batch_pred,batch_y)\n",
    "    losses.append(loss.detach())\n",
    "\n",
    "    loss.backward()\n",
    "    optimizer.step()\n",
    "    model.zero_grad()"
   ]
  },
  {
   "cell_type": "code",
   "execution_count": 30,
   "id": "31df3d1b",
   "metadata": {},
   "outputs": [
    {
     "data": {
      "text/plain": [
       "[<matplotlib.lines.Line2D at 0x2875862c0>]"
      ]
     },
     "execution_count": 30,
     "metadata": {},
     "output_type": "execute_result"
    },
    {
     "data": {
      "image/png": "[encoded data removed]",
      "text/plain": [
       "<Figure size 640x480 with 1 Axes>"
      ]
     },
     "metadata": {},
     "output_type": "display_data"
    }
   ],
   "source": [
    "import matplotlib.pyplot as plt\n",
    "plt.plot(losses)"
   ]
  },
  {
   "cell_type": "code",
   "execution_count": 31,
   "id": "b6f05cf7",
   "metadata": {},
   "outputs": [
    {
     "data": {
      "text/plain": [
       "torch.Size([96, 512])"
      ]
     },
     "execution_count": 31,
     "metadata": {},
     "output_type": "execute_result"
    }
   ],
   "source": [
    "# By setting return_node_embedding=True, we can obtain node embeddings.\n",
    "# This is an example for the first graph in the dataset.\n",
    "embeddings = model(dataset[0],return_node_embedding=True)[1]\n",
    "embeddings.shape"
   ]
  },
  {
   "attachments": {},
   "cell_type": "markdown",
   "id": "84895020",
   "metadata": {},
   "source": [
    "For further node embedding clustering/analysis, maybe we can try the method described in https://www.biorxiv.org/content/10.1101/2022.05.12.491707v1.full.pdf page20"
   ]
  },
  {
   "cell_type": "code",
   "execution_count": null,
   "id": "81b4bb99",
   "metadata": {},
   "outputs": [],
   "source": []
  }
 ],
 "metadata": {
  "kernelspec": {
   "display_name": "Python 3 (ipykernel)",
   "language": "python",
   "name": "python3"
  },
  "language_info": {
   "codemirror_mode": {
    "name": "ipython",
    "version": 3
   },
   "file_extension": ".py",
   "mimetype": "text/x-python",
   "name": "python",
   "nbconvert_exporter": "python",
   "pygments_lexer": "ipython3",
   "version": "3.10.6"
  },
  "toc": {
   "base_numbering": 1,
   "nav_menu": {},
   "number_sections": true,
   "sideBar": true,
   "skip_h1_title": false,
   "title_cell": "Table of Contents",
   "title_sidebar": "Contents",
   "toc_cell": false,
   "toc_position": {},
   "toc_section_display": true,
   "toc_window_display": false
  }
 },
 "nbformat": 4,
 "nbformat_minor": 5
}
